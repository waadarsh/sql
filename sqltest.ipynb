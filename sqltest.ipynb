{
 "cells": [
  {
   "cell_type": "code",
   "execution_count": 1,
   "metadata": {},
   "outputs": [],
   "source": [
    "import sqlite3"
   ]
  },
  {
   "cell_type": "code",
   "execution_count": 2,
   "metadata": {},
   "outputs": [],
   "source": [
    "import pandas as pd"
   ]
  },
  {
   "cell_type": "code",
   "execution_count": 9,
   "metadata": {},
   "outputs": [
    {
     "name": "stdout",
     "output_type": "stream",
     "text": [
      "id                     int64\n",
      "title                 object\n",
      "original_language     object\n",
      "original_title        object\n",
      "overview              object\n",
      "genre_ids             object\n",
      "popularity           float64\n",
      "release_date          object\n",
      "vote_average         float64\n",
      "vote_count             int64\n",
      "dtype: object\n"
     ]
    }
   ],
   "source": [
    "# Read a small chunk of the CSV file to inspect column names and data types\n",
    "small_chunk = pd.read_csv('TMDbTrendingMovies.csv', nrows=10)\n",
    "print(small_chunk.dtypes)\n"
   ]
  },
  {
   "cell_type": "code",
   "execution_count": 12,
   "metadata": {},
   "outputs": [
    {
     "name": "stdout",
     "output_type": "stream",
     "text": [
      "id                     int64\n",
      "title                 object\n",
      "original_language     object\n",
      "original_title        object\n",
      "overview              object\n",
      "genre_ids             object\n",
      "popularity           float64\n",
      "release_date          object\n",
      "vote_average         float64\n",
      "vote_count             int64\n",
      "dtype: object\n",
      "       id                     title original_language  \\\n",
      "0  766507                      Prey                en   \n",
      "1  361743         Top Gun: Maverick                en   \n",
      "2  755566                 Day Shift                en   \n",
      "3  438148  Minions: The Rise of Gru                en   \n",
      "4  614934                     Elvis                en   \n",
      "\n",
      "             original_title  \\\n",
      "0                      Prey   \n",
      "1         Top Gun: Maverick   \n",
      "2                 Day Shift   \n",
      "3  Minions: The Rise of Gru   \n",
      "4                     Elvis   \n",
      "\n",
      "                                            overview         genre_ids  \\\n",
      "0  When danger threatens her camp, the fierce and...     [28, 878, 53]   \n",
      "1  After more than thirty years of service as one...          [28, 18]   \n",
      "2  An LA vampire hunter has a week to come up wit...      [28, 14, 27]   \n",
      "3  A fanboy of a supervillain supergroup known as...  [16, 12, 35, 14]   \n",
      "4  The life story of Elvis Presley as seen throug...   [10402, 18, 36]   \n",
      "\n",
      "   popularity release_date  vote_average  vote_count  \n",
      "0    8530.890   2022-08-02         8.086        2828  \n",
      "1    3887.230   2022-05-24         8.331        2314  \n",
      "2    2624.719   2022-08-10         6.777         455  \n",
      "3    4064.409   2022-06-29         7.772        1504  \n",
      "4     907.927   2022-06-22         7.918        1109  \n",
      "\n",
      "    CREATE TABLE IF NOT EXISTS tmdb (\n",
      "        \"id\" INTEGER,\n",
      "    \"title\" TEXT,\n",
      "    \"original_language\" TEXT,\n",
      "    \"original_title\" TEXT,\n",
      "    \"overview\" TEXT,\n",
      "    \"genre_ids\" TEXT,\n",
      "    \"popularity\" REAL,\n",
      "    \"release_date\" TEXT,\n",
      "    \"vote_average\" REAL,\n",
      "    \"vote_count\" INTEGER\n",
      "    )\n",
      "    \n"
     ]
    }
   ],
   "source": [
    "import pandas as pd\n",
    "import sqlite3\n",
    "\n",
    "# Step 1: Inspect the CSV file\n",
    "# Read a small chunk of the CSV file to inspect column names and data types\n",
    "small_chunk = pd.read_csv('TMDbTrendingMovies.csv', nrows=10)\n",
    "print(small_chunk.dtypes)\n",
    "print(small_chunk.head())\n",
    "\n",
    "# Step 2: Dynamically create the CREATE TABLE query based on inspection\n",
    "def create_table_query_from_dtypes(df, table_name):\n",
    "    dtypes_mapping = {\n",
    "        'int64': 'INTEGER',\n",
    "        'float64': 'REAL',\n",
    "        'object': 'TEXT',\n",
    "        'bool': 'INTEGER',\n",
    "        'datetime64[ns]': 'TEXT'\n",
    "    }\n",
    "\n",
    "    columns = []\n",
    "    for column, dtype in df.dtypes.items():\n",
    "        sql_dtype = dtypes_mapping.get(str(dtype), 'TEXT')\n",
    "        columns.append(f'\"{column}\" {sql_dtype}')\n",
    "    \n",
    "    columns_str = \",\\n    \".join(columns)\n",
    "    create_table_query = f'''\n",
    "    CREATE TABLE IF NOT EXISTS {table_name} (\n",
    "        {columns_str}\n",
    "    )\n",
    "    '''\n",
    "    return create_table_query\n",
    "\n",
    "table_name = 'tmdb'\n",
    "create_table_query = create_table_query_from_dtypes(small_chunk, table_name)\n",
    "print(create_table_query)  # Print the query to verify\n",
    "\n",
    "# Step 3: Create the table and insert data in chunks\n",
    "# Create an SQLite database connection\n",
    "conn = sqlite3.connect('tmdb.db')\n",
    "cursor = conn.cursor()\n",
    "\n",
    "# Execute the CREATE TABLE query\n",
    "cursor.execute(create_table_query)\n",
    "conn.commit()\n",
    "\n",
    "# Define the chunk size\n",
    "chunk_size = 10000\n",
    "\n",
    "# Read the CSV file in chunks and insert into the database\n",
    "for chunk in pd.read_csv('TMDbTrendingMovies.csv', chunksize=chunk_size):\n",
    "    chunk.to_sql(table_name, conn, if_exists='append', index=False)\n",
    "\n",
    "# Close the connection\n",
    "conn.close()\n"
   ]
  }
 ],
 "metadata": {
  "kernelspec": {
   "display_name": "api",
   "language": "python",
   "name": "python3"
  },
  "language_info": {
   "codemirror_mode": {
    "name": "ipython",
    "version": 3
   },
   "file_extension": ".py",
   "mimetype": "text/x-python",
   "name": "python",
   "nbconvert_exporter": "python",
   "pygments_lexer": "ipython3",
   "version": "3.11.9"
  }
 },
 "nbformat": 4,
 "nbformat_minor": 2
}
